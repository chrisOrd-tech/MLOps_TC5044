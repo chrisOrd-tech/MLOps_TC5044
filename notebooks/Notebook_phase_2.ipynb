{
 "cells": [
  {
   "cell_type": "code",
   "execution_count": null,
   "metadata": {},
   "outputs": [],
   "source": [
    "%cd .."
   ]
  },
  {
   "cell_type": "markdown",
   "metadata": {},
   "source": [
    "## 1 Import libraries"
   ]
  },
  {
   "cell_type": "code",
   "execution_count": 2,
   "metadata": {},
   "outputs": [],
   "source": [
    "from src.stages.load_data import load_data\n",
    "from src.stages.feature_engineering import feature_engineering\n",
    "from src.stages.data_split import data_split\n",
    "from src.stages.train import train_model\n",
    "from src.stages.evaluate import evaluate_model\n",
    "\n",
    "import warnings\n",
    "# Suppress all warnings\n",
    "warnings.filterwarnings(\"ignore\")"
   ]
  },
  {
   "cell_type": "markdown",
   "metadata": {},
   "source": [
    "## 2 Load dataset"
   ]
  },
  {
   "cell_type": "code",
   "execution_count": 3,
   "metadata": {},
   "outputs": [
    {
     "name": "stdout",
     "output_type": "stream",
     "text": [
      "Data loaded complete!\n"
     ]
    },
    {
     "data": {
      "text/html": [
       "<div>\n",
       "<style scoped>\n",
       "    .dataframe tbody tr th:only-of-type {\n",
       "        vertical-align: middle;\n",
       "    }\n",
       "\n",
       "    .dataframe tbody tr th {\n",
       "        vertical-align: top;\n",
       "    }\n",
       "\n",
       "    .dataframe thead th {\n",
       "        text-align: right;\n",
       "    }\n",
       "</style>\n",
       "<table border=\"1\" class=\"dataframe\">\n",
       "  <thead>\n",
       "    <tr style=\"text-align: right;\">\n",
       "      <th></th>\n",
       "      <th>bp (Diastolic)</th>\n",
       "      <th>bp limit</th>\n",
       "      <th>sg</th>\n",
       "      <th>al</th>\n",
       "      <th>class</th>\n",
       "      <th>rbc</th>\n",
       "      <th>su</th>\n",
       "      <th>pc</th>\n",
       "      <th>pcc</th>\n",
       "      <th>ba</th>\n",
       "      <th>...</th>\n",
       "      <th>htn</th>\n",
       "      <th>dm</th>\n",
       "      <th>cad</th>\n",
       "      <th>appet</th>\n",
       "      <th>pe</th>\n",
       "      <th>ane</th>\n",
       "      <th>grf</th>\n",
       "      <th>stage</th>\n",
       "      <th>affected</th>\n",
       "      <th>age</th>\n",
       "    </tr>\n",
       "  </thead>\n",
       "  <tbody>\n",
       "    <tr>\n",
       "      <th>0</th>\n",
       "      <td>0</td>\n",
       "      <td>0</td>\n",
       "      <td>1.019 - 1.021</td>\n",
       "      <td>1 - 1</td>\n",
       "      <td>ckd</td>\n",
       "      <td>0</td>\n",
       "      <td>&lt; 0</td>\n",
       "      <td>0</td>\n",
       "      <td>0</td>\n",
       "      <td>0</td>\n",
       "      <td>...</td>\n",
       "      <td>0</td>\n",
       "      <td>0</td>\n",
       "      <td>0</td>\n",
       "      <td>0</td>\n",
       "      <td>0</td>\n",
       "      <td>0</td>\n",
       "      <td>≥ 227.944</td>\n",
       "      <td>s1</td>\n",
       "      <td>1</td>\n",
       "      <td>&lt; 12</td>\n",
       "    </tr>\n",
       "    <tr>\n",
       "      <th>1</th>\n",
       "      <td>0</td>\n",
       "      <td>0</td>\n",
       "      <td>1.009 - 1.011</td>\n",
       "      <td>&lt; 0</td>\n",
       "      <td>ckd</td>\n",
       "      <td>0</td>\n",
       "      <td>&lt; 0</td>\n",
       "      <td>0</td>\n",
       "      <td>0</td>\n",
       "      <td>0</td>\n",
       "      <td>...</td>\n",
       "      <td>0</td>\n",
       "      <td>0</td>\n",
       "      <td>0</td>\n",
       "      <td>0</td>\n",
       "      <td>0</td>\n",
       "      <td>0</td>\n",
       "      <td>≥ 227.944</td>\n",
       "      <td>s1</td>\n",
       "      <td>1</td>\n",
       "      <td>&lt; 12</td>\n",
       "    </tr>\n",
       "    <tr>\n",
       "      <th>2</th>\n",
       "      <td>0</td>\n",
       "      <td>0</td>\n",
       "      <td>1.009 - 1.011</td>\n",
       "      <td>≥ 4</td>\n",
       "      <td>ckd</td>\n",
       "      <td>1</td>\n",
       "      <td>&lt; 0</td>\n",
       "      <td>1</td>\n",
       "      <td>0</td>\n",
       "      <td>1</td>\n",
       "      <td>...</td>\n",
       "      <td>0</td>\n",
       "      <td>0</td>\n",
       "      <td>0</td>\n",
       "      <td>1</td>\n",
       "      <td>0</td>\n",
       "      <td>0</td>\n",
       "      <td>127.281 - 152.446</td>\n",
       "      <td>s1</td>\n",
       "      <td>1</td>\n",
       "      <td>&lt; 12</td>\n",
       "    </tr>\n",
       "    <tr>\n",
       "      <th>3</th>\n",
       "      <td>1</td>\n",
       "      <td>1</td>\n",
       "      <td>1.009 - 1.011</td>\n",
       "      <td>3 - 3</td>\n",
       "      <td>ckd</td>\n",
       "      <td>0</td>\n",
       "      <td>&lt; 0</td>\n",
       "      <td>0</td>\n",
       "      <td>0</td>\n",
       "      <td>0</td>\n",
       "      <td>...</td>\n",
       "      <td>0</td>\n",
       "      <td>0</td>\n",
       "      <td>0</td>\n",
       "      <td>0</td>\n",
       "      <td>0</td>\n",
       "      <td>0</td>\n",
       "      <td>127.281 - 152.446</td>\n",
       "      <td>s1</td>\n",
       "      <td>1</td>\n",
       "      <td>&lt; 12</td>\n",
       "    </tr>\n",
       "    <tr>\n",
       "      <th>4</th>\n",
       "      <td>0</td>\n",
       "      <td>0</td>\n",
       "      <td>1.015 - 1.017</td>\n",
       "      <td>&lt; 0</td>\n",
       "      <td>ckd</td>\n",
       "      <td>0</td>\n",
       "      <td>&lt; 0</td>\n",
       "      <td>0</td>\n",
       "      <td>0</td>\n",
       "      <td>0</td>\n",
       "      <td>...</td>\n",
       "      <td>0</td>\n",
       "      <td>1</td>\n",
       "      <td>0</td>\n",
       "      <td>1</td>\n",
       "      <td>1</td>\n",
       "      <td>0</td>\n",
       "      <td>127.281 - 152.446</td>\n",
       "      <td>s1</td>\n",
       "      <td>1</td>\n",
       "      <td>12 - 20</td>\n",
       "    </tr>\n",
       "  </tbody>\n",
       "</table>\n",
       "<p>5 rows × 29 columns</p>\n",
       "</div>"
      ],
      "text/plain": [
       "   bp (Diastolic)  bp limit             sg     al class  rbc   su  pc  pcc  \\\n",
       "0               0         0  1.019 - 1.021  1 - 1   ckd    0  < 0   0    0   \n",
       "1               0         0  1.009 - 1.011    < 0   ckd    0  < 0   0    0   \n",
       "2               0         0  1.009 - 1.011    ≥ 4   ckd    1  < 0   1    0   \n",
       "3               1         1  1.009 - 1.011  3 - 3   ckd    0  < 0   0    0   \n",
       "4               0         0  1.015 - 1.017    < 0   ckd    0  < 0   0    0   \n",
       "\n",
       "   ba  ... htn dm cad appet pe ane                grf stage affected      age  \n",
       "0   0  ...   0  0   0     0  0   0          ≥ 227.944    s1        1     < 12  \n",
       "1   0  ...   0  0   0     0  0   0          ≥ 227.944    s1        1     < 12  \n",
       "2   1  ...   0  0   0     1  0   0  127.281 - 152.446    s1        1     < 12  \n",
       "3   0  ...   0  0   0     0  0   0  127.281 - 152.446    s1        1     < 12  \n",
       "4   0  ...   0  1   0     1  1   0  127.281 - 152.446    s1        1  12 - 20  \n",
       "\n",
       "[5 rows x 29 columns]"
      ]
     },
     "execution_count": 3,
     "metadata": {},
     "output_type": "execute_result"
    }
   ],
   "source": [
    "data = load_data(config_path='params.yaml')\n",
    "data.head()"
   ]
  },
  {
   "cell_type": "markdown",
   "metadata": {},
   "source": [
    "## 3 Feature Engineering"
   ]
  },
  {
   "cell_type": "code",
   "execution_count": 4,
   "metadata": {},
   "outputs": [
    {
     "name": "stdout",
     "output_type": "stream",
     "text": [
      "Data loaded complete!\n",
      "Data features saved!\n"
     ]
    }
   ],
   "source": [
    "feature_engineering(config_path='params.yaml')"
   ]
  },
  {
   "cell_type": "markdown",
   "metadata": {},
   "source": [
    "## 4 Split dataset"
   ]
  },
  {
   "cell_type": "code",
   "execution_count": 5,
   "metadata": {},
   "outputs": [
    {
     "name": "stdout",
     "output_type": "stream",
     "text": [
      "Split data completed!\n"
     ]
    }
   ],
   "source": [
    "data_split(config_path='params.yaml')"
   ]
  },
  {
   "cell_type": "markdown",
   "metadata": {},
   "source": [
    "## 5 Train model"
   ]
  },
  {
   "cell_type": "code",
   "execution_count": 6,
   "metadata": {},
   "outputs": [
    {
     "name": "stdout",
     "output_type": "stream",
     "text": [
      "Fitting 5 folds for each of 1 candidates, totalling 5 fits\n",
      "Training completed and model has been saved!\n"
     ]
    }
   ],
   "source": [
    "train_model(config_path='params.yaml')"
   ]
  },
  {
   "cell_type": "markdown",
   "metadata": {},
   "source": [
    "## 6 Evaluate model"
   ]
  },
  {
   "cell_type": "code",
   "execution_count": 7,
   "metadata": {},
   "outputs": [
    {
     "name": "stdout",
     "output_type": "stream",
     "text": [
      "Classification report:\n",
      "              precision    recall  f1-score   support\n",
      "\n",
      "           0       0.89      0.53      0.67        15\n",
      "           1       0.77      0.96      0.86        25\n",
      "\n",
      "    accuracy                           0.80        40\n",
      "   macro avg       0.83      0.75      0.76        40\n",
      "weighted avg       0.82      0.80      0.79        40\n",
      "\n"
     ]
    },
    {
     "data": {
      "image/png": "[encoded data removed]",
      "text/plain": [
       "<Figure size 800x800 with 2 Axes>"
      ]
     },
     "metadata": {},
     "output_type": "display_data"
    }
   ],
   "source": [
    "evaluate_model(config_path='params.yaml')"
   ]
  }
 ],
 "metadata": {
  "kernelspec": {
   "display_name": "mlops",
   "language": "python",
   "name": "python3"
  },
  "language_info": {
   "codemirror_mode": {
    "name": "ipython",
    "version": 3
   },
   "file_extension": ".py",
   "mimetype": "text/x-python",
   "name": "python",
   "nbconvert_exporter": "python",
   "pygments_lexer": "ipython3",
   "version": "3.10.0"
  }
 },
 "nbformat": 4,
 "nbformat_minor": 2
}
